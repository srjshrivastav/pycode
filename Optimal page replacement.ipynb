{
 "cells": [
  {
   "cell_type": "code",
   "execution_count": 22,
   "metadata": {},
   "outputs": [
    {
     "name": "stdout",
     "output_type": "stream",
     "text": [
      "Enter Frame size :2\n",
      "Enter refrence string :1 3 1 2 1 7 4 3 4 1 2 2 7 4 6 5 3 2 1 1\n",
      "[1]\n",
      "[1, 3]\n",
      "[1, 3]\n",
      "[2, 3]\n",
      "[1, 3]\n",
      "[7, 3]\n",
      "[4, 3]\n",
      "[4, 3]\n",
      "[4, 3]\n",
      "[1, 3]\n",
      "[2, 3]\n",
      "[2, 3]\n",
      "[7, 3]\n",
      "[4, 3]\n",
      "[6, 3]\n",
      "[5, 3]\n",
      "[5, 3]\n",
      "[2, 3]\n",
      "[1, 3]\n",
      "[1, 3]\n",
      "page falut= 14 \n",
      "page replacement= 12 \n",
      "page hit= 6\n"
     ]
    }
   ],
   "source": [
    "page_fault=0\n",
    "page_hit=0\n",
    "page_rep=0\n",
    "frame_size=int(input(\"Enter Frame size :\"))\n",
    "ref=list(map(int,input(\"Enter refrence string :\").split(\" \")))\n",
    "proceesed=[]\n",
    "alloc=[]\n",
    "while(ref):\n",
    "    temp=ref.pop(0)\n",
    "    proceesed.append(temp)\n",
    "    if(temp in alloc):\n",
    "        page_hit+=1\n",
    "    elif((temp not in alloc) and (len(alloc)<frame_size)):\n",
    "        page_fault+=1\n",
    "        alloc.append(temp)\n",
    "    elif((temp not in alloc) and len(alloc)>=frame_size):\n",
    "        page_rep+=1\n",
    "        page_fault+=1\n",
    "        for i in alloc:\n",
    "            c.append(ref.count(i))\n",
    "        ind=c.index(min(c))\n",
    "        alloc[ind]=temp\n",
    "    print(alloc)\n",
    "print(\"page falut=\",page_fault,\"\\npage replacement=\",page_rep,\"\\npage hit=\",page_hit)\n",
    "        \n",
    "        "
   ]
  },
 ],
 "metadata": {
  "kernelspec": {
   "display_name": "Python 3",
   "language": "python",
   "name": "python3"
  },
  "language_info": {
   "codemirror_mode": {
    "name": "ipython",
    "version": 3
   },
   "file_extension": ".py",
   "mimetype": "text/x-python",
   "name": "python",
   "nbconvert_exporter": "python",
   "pygments_lexer": "ipython3",
   "version": "3.7.4"
  }
 },
 "nbformat": 4,
 "nbformat_minor": 2
}
