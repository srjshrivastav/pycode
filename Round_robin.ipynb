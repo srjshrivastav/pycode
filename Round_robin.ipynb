{
 "cells": [
  {
   "cell_type": "code",
   "execution_count": 2,
   "metadata": {},
   "outputs": [],
   "source": [
    "def gant_chart(process,quant):\n",
    "    while(any([value for value in process.values()])):\n",
    "        for key,value in process.items():\n",
    "            temp=quant\n",
    "            while(value and temp):\n",
    "                chart.append(key)\n",
    "                temp-=1\n",
    "                value-=1\n",
    "            process[key]=value"
   ]
  },
  {
   "cell_type": "code",
   "execution_count": 9,
   "metadata": {},
   "outputs": [
    {
     "name": "stdout",
     "output_type": "stream",
     "text": [
      "No of process :4\n",
      "Enter Quantum :2\n",
      "Enter Burst Time for P0:6\n",
      "Enter Burst Time for P1:2\n",
      "Enter Burst Time for P2:1\n",
      "Enter Burst Time for P3:4\n",
      "+------------+------------------+-----+-----+-------+\n",
      "| Process Id | C.P.U Burst Time | A.T | W.T | T.A.T |\n",
      "+------------+------------------+-----+-----+-------+\n",
      "|     P0     |        6         |  0  |  7  |   13  |\n",
      "|     P1     |        2         |  0  |  2  |   4   |\n",
      "|     P2     |        1         |  0  |  4  |   5   |\n",
      "|     P3     |        4         |  0  |  7  |   11  |\n",
      "+------------+------------------+-----+-----+-------+\n",
      "P0 P0 P1 P1 P2 P3 P3 P0 P0 P3 P3 P0 P0 Throughput : 0.3076923076923077\n",
      "Average Waiting Time : 5.0\n"
     ]
    }
   ],
   "source": [
    "from prettytable import PrettyTable\n",
    "table=PrettyTable()\n",
    "chart=[]\n",
    "A_T=0\n",
    "wt=0\n",
    "tat=0\n",
    "twt=0\n",
    "p=int(input('No of process :'))\n",
    "process={}\n",
    "quant=int(input(\"Enter Quantum :\"))\n",
    "for i in range(p):\n",
    "    process['P%d'%(i)]=int(input(\"Enter Burst Time for P%d:\"%(i)))\n",
    "    \n",
    "temp=process.copy()\n",
    "gant_chart(process,quant)\n",
    "table.field_names=[\"Process Id\",\"C.P.U Burst Time\",'A.T','W.T','T.A.T']\n",
    "for p,btime in temp.items():\n",
    "    tat = max(list(filter(lambda x: chart[x] == p, range(len(chart)))))+1\n",
    "    wt=tat-btime\n",
    "    twt+=wt\n",
    "    table.add_row(['{0}'.format(p),btime,A_T,wt,tat])\n",
    "    \n",
    "print(table)\n",
    "for i in chart:\n",
    "    print(i,end=\" \")\n",
    "print(\"\\nThroughput :\",len(process)/len(chart))\n",
    "print(\"Average Waiting Time :\",twt/len(process))"
   ]
  },
  {
   "cell_type": "code",
   "execution_count": 31,
   "metadata": {},
   "outputs": [
    {
     "name": "stdout",
     "output_type": "stream",
     "text": [
      "Requirement already satisfied: prettytable in c:\\programdata\\anaconda3\\lib\\site-packages (0.7.2)\n"
     ]
    }
   ],
   "source": [
    "!pip install prettytable"
   ]
  },
  {
   "cell_type": "code",
   "execution_count": null,
   "metadata": {},
   "outputs": [],
   "source": []
  }
 ],
 "metadata": {
  "kernelspec": {
   "display_name": "Python 3",
   "language": "python",
   "name": "python3"
  },
  "language_info": {
   "codemirror_mode": {
    "name": "ipython",
    "version": 3
   },
   "file_extension": ".py",
   "mimetype": "text/x-python",
   "name": "python",
   "nbconvert_exporter": "python",
   "pygments_lexer": "ipython3",
   "version": "3.7.4"
  }
 },
 "nbformat": 4,
 "nbformat_minor": 2
}
